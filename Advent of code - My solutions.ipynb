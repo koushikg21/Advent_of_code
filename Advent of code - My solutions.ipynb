{
 "cells": [
  {
   "cell_type": "code",
   "execution_count": 22,
   "id": "1fbbd1bf",
   "metadata": {},
   "outputs": [],
   "source": [
    "from aocd import data\n",
    "from aocd import get_data\n",
    "import numpy as np"
   ]
  },
  {
   "cell_type": "code",
   "execution_count": 101,
   "id": "cc421f6e",
   "metadata": {},
   "outputs": [],
   "source": [
    "import pandas as pd"
   ]
  },
  {
   "cell_type": "markdown",
   "id": "29cb31f6",
   "metadata": {},
   "source": [
    "## Problem 1a"
   ]
  },
  {
   "cell_type": "code",
   "execution_count": null,
   "id": "2d6d24cf",
   "metadata": {},
   "outputs": [],
   "source": [
    "%env AOC_SESSION = ''"
   ]
  },
  {
   "cell_type": "code",
   "execution_count": 24,
   "id": "0b6d46a9",
   "metadata": {},
   "outputs": [],
   "source": [
    "x = get_data(day = 1, year = 2022)"
   ]
  },
  {
   "cell_type": "code",
   "execution_count": 42,
   "id": "ea6aa68d",
   "metadata": {},
   "outputs": [],
   "source": [
    "y = x.splitlines()"
   ]
  },
  {
   "cell_type": "code",
   "execution_count": 54,
   "id": "edec0f60",
   "metadata": {},
   "outputs": [],
   "source": [
    "y = [0 if x=='' else x for x in y]"
   ]
  },
  {
   "cell_type": "code",
   "execution_count": 56,
   "id": "a875491e",
   "metadata": {},
   "outputs": [],
   "source": [
    "z = list(map(int,y))"
   ]
  },
  {
   "cell_type": "code",
   "execution_count": 62,
   "id": "14f507e8",
   "metadata": {},
   "outputs": [],
   "source": [
    "a = list()\n"
   ]
  },
  {
   "cell_type": "code",
   "execution_count": 72,
   "id": "34593035",
   "metadata": {},
   "outputs": [],
   "source": [
    "x = 0\n",
    "a = list()\n",
    "for i in range(len(z)):\n",
    "    if z[i] != 0:\n",
    "        x = x + z[i]\n",
    "    else:\n",
    "        a.append(x)\n",
    "        x = 0"
   ]
  },
  {
   "cell_type": "markdown",
   "id": "3dad1fec",
   "metadata": {},
   "source": [
    "## Solution 1a"
   ]
  },
  {
   "cell_type": "code",
   "execution_count": 155,
   "id": "52b7a988",
   "metadata": {},
   "outputs": [
    {
     "data": {
      "text/plain": [
       "68292"
      ]
     },
     "execution_count": 155,
     "metadata": {},
     "output_type": "execute_result"
    }
   ],
   "source": [
    "max(a)"
   ]
  },
  {
   "cell_type": "markdown",
   "id": "0151d84e",
   "metadata": {},
   "source": [
    "## Problem 1b"
   ]
  },
  {
   "cell_type": "code",
   "execution_count": 85,
   "id": "36b55449",
   "metadata": {},
   "outputs": [],
   "source": [
    "a.sort(reverse = True)"
   ]
  },
  {
   "cell_type": "markdown",
   "id": "e535a622",
   "metadata": {},
   "source": [
    "### Solution 1b"
   ]
  },
  {
   "cell_type": "code",
   "execution_count": 88,
   "id": "046c6aa3",
   "metadata": {},
   "outputs": [
    {
     "data": {
      "text/plain": [
       "203203"
      ]
     },
     "execution_count": 88,
     "metadata": {},
     "output_type": "execute_result"
    }
   ],
   "source": [
    "sum(a[:3])"
   ]
  }
 ],
 "metadata": {
  "kernelspec": {
   "display_name": "Python 3 (ipykernel)",
   "language": "python",
   "name": "python3"
  },
  "language_info": {
   "codemirror_mode": {
    "name": "ipython",
    "version": 3
   },
   "file_extension": ".py",
   "mimetype": "text/x-python",
   "name": "python",
   "nbconvert_exporter": "python",
   "pygments_lexer": "ipython3",
   "version": "3.7.11"
  }
 },
 "nbformat": 4,
 "nbformat_minor": 5
}
